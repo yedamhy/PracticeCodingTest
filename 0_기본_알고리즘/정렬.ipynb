{
 "cells": [
  {
   "cell_type": "code",
   "execution_count": 1,
   "id": "8b220d36",
   "metadata": {},
   "outputs": [],
   "source": [
    "standard_list = [4, 2, 7, 3, 8, 1]"
   ]
  },
  {
   "cell_type": "markdown",
   "id": "7bccded3",
   "metadata": {},
   "source": [
    "# 1. 버블 정렬\n",
    "인접한 두 수를 비교하면서 정렬해나가는 것.\n",
    "→ 앞에서부터 시작해 큰 수가 가장 뒤로 가게 완성해나가는 방법."
   ]
  },
  {
   "cell_type": "code",
   "execution_count": 2,
   "id": "d3f2495e",
   "metadata": {},
   "outputs": [
    {
     "name": "stdout",
     "output_type": "stream",
     "text": [
      "정렬 전 :  [4, 2, 7, 3, 8, 1]\n"
     ]
    }
   ],
   "source": [
    "bubble = standard_list.copy()\n",
    "print(\"정렬 전 : \", bubble)"
   ]
  },
  {
   "cell_type": "code",
   "execution_count": 3,
   "id": "dd9a0c28",
   "metadata": {},
   "outputs": [],
   "source": [
    "def bubble_sort(bubble):\n",
    "    for i in range(len(bubble)-1):\n",
    "        for j in range(len(bubble) - i - 1):\n",
    "            if bubble[j] > bubble[j+1]:\n",
    "                bubble[j], bubble[j+1] = bubble[j+1], bubble[j]\n",
    "        print(bubble)\n",
    "        \n",
    "    return bubble"
   ]
  },
  {
   "cell_type": "code",
   "execution_count": 4,
   "id": "da02c376",
   "metadata": {},
   "outputs": [
    {
     "name": "stdout",
     "output_type": "stream",
     "text": [
      "정렬 전 :  [4, 2, 7, 3, 8, 1]\n",
      "-----------------------------------\n",
      "[2, 4, 3, 7, 1, 8]\n",
      "[2, 3, 4, 1, 7, 8]\n",
      "[2, 3, 1, 4, 7, 8]\n",
      "[2, 1, 3, 4, 7, 8]\n",
      "[1, 2, 3, 4, 7, 8]\n",
      "-----------------------------------\n",
      "정렬 후 :  [1, 2, 3, 4, 7, 8]\n"
     ]
    }
   ],
   "source": [
    "bubble = standard_list.copy()\n",
    "\n",
    "print(\"정렬 전 : \", bubble)\n",
    "print(\"-------\" * 5)\n",
    "\n",
    "result_list = bubble_sort(bubble)\n",
    "\n",
    "print(\"-------\" * 5)\n",
    "print(\"정렬 후 : \", bubble)"
   ]
  },
  {
   "cell_type": "markdown",
   "id": "a45c884f",
   "metadata": {},
   "source": [
    "# 2. Merge(합병) 정렬\n",
    "분할 정복과 재귀를 이용한 정렬\n",
    "1. 분할 : 배열을 반으로 나누고 → 길이가 작아질 될 때까지 반복\n",
    "2. 정복 : 길이가 작은(즉, 길이가 1이라고 봐도 무방한) 요소들을 정렬 후 병합\n",
    "3. 결합 : 정렬된 부분을 합치면서 정렬된 결과를 도출한다."
   ]
  },
  {
   "cell_type": "code",
   "execution_count": 5,
   "id": "71806398",
   "metadata": {},
   "outputs": [],
   "source": [
    "def merge_sort(merge_list):\n",
    "    if len(merge_list) <= 1:\n",
    "        return merge_list\n",
    "        \n",
    "    mid = len(merge_list) // 2\n",
    "    left_half = merge_sort(merge_list[:mid])\n",
    "    right_half = merge_sort(merge_list[mid:])\n",
    "    \n",
    "    i, j = 0, 0\n",
    "    sorted_arr = []\n",
    "    while i < len(left_half) and j < len(right_half):\n",
    "        if left_half[i] < right_half[j]:\n",
    "            sorted_arr.append(left_half[i])\n",
    "            i += 1\n",
    "            \n",
    "        else:\n",
    "            sorted_arr.append(right_half[j])\n",
    "            j += 1\n",
    "            \n",
    "    while i < len(left_half):\n",
    "        sorted_arr.append(left_half[i])\n",
    "        i += 1\n",
    "        \n",
    "    while j < len(right_half):\n",
    "        sorted_arr.append(right_half[j])\n",
    "        j += 1\n",
    "        \n",
    "    print(sorted_arr)\n",
    "    return sorted_arr"
   ]
  },
  {
   "cell_type": "code",
   "execution_count": 6,
   "id": "568081a3",
   "metadata": {},
   "outputs": [
    {
     "name": "stdout",
     "output_type": "stream",
     "text": [
      "정렬 전 :  [4, 2, 7, 3, 8, 1]\n",
      "-----------------------------------\n",
      "[2, 7]\n",
      "[2, 4, 7]\n",
      "[1, 8]\n",
      "[1, 3, 8]\n",
      "[1, 2, 3, 4, 7, 8]\n",
      "-----------------------------------\n",
      "정렬 후 :  [1, 2, 3, 4, 7, 8]\n"
     ]
    }
   ],
   "source": [
    "merge_list = standard_list.copy()\n",
    "\n",
    "print(\"정렬 전 : \", merge_list)\n",
    "print(\"-------\" * 5)  \n",
    "\n",
    "result_list = merge_sort(merge_list)\n",
    "\n",
    "print(\"-------\" * 5)  \n",
    "print(\"정렬 후 : \", result_list)"
   ]
  }
 ],
 "metadata": {
  "kernelspec": {
   "display_name": "Python 3 (ipykernel)",
   "language": "python",
   "name": "python3"
  },
  "language_info": {
   "codemirror_mode": {
    "name": "ipython",
    "version": 3
   },
   "file_extension": ".py",
   "mimetype": "text/x-python",
   "name": "python",
   "nbconvert_exporter": "python",
   "pygments_lexer": "ipython3",
   "version": "3.9.7"
  }
 },
 "nbformat": 4,
 "nbformat_minor": 5
}
