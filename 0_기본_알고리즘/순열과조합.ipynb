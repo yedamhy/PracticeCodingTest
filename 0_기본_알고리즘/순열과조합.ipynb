{
 "cells": [
  {
   "cell_type": "code",
   "execution_count": 1,
   "id": "584c8cde",
   "metadata": {},
   "outputs": [],
   "source": [
    "standard = [1, 2, 3, 4]"
   ]
  },
  {
   "cell_type": "markdown",
   "id": "d7c225f0",
   "metadata": {},
   "source": [
    "# 1. 순열\n",
    "nPr"
   ]
  },
  {
   "cell_type": "markdown",
   "id": "d6c5058f",
   "metadata": {},
   "source": [
    "- 라이브러리 사용 X ver"
   ]
  },
  {
   "cell_type": "code",
   "execution_count": 8,
   "id": "1f426468",
   "metadata": {},
   "outputs": [],
   "source": [
    "def generate_permutations(arr, start, end, result):\n",
    "    if start == end:\n",
    "        result.append(arr.copy())\n",
    "        \n",
    "    else:\n",
    "        for i in range(start, end):\n",
    "            arr[start], arr[i] = arr[i], arr[start]\n",
    "            generate_permutations(arr, start+1, end, result)\n",
    "            arr[start], arr[i] = arr[i], arr[start]\n",
    "                        \n",
    "def all_permutations(elements):\n",
    "    result = []\n",
    "    generate_permutations(elements, 0, len(elements), result)\n",
    "    return result"
   ]
  },
  {
   "cell_type": "code",
   "execution_count": 16,
   "id": "ea814d95",
   "metadata": {},
   "outputs": [
    {
     "name": "stdout",
     "output_type": "stream",
     "text": [
      "[[1, 2, 3, 4], [1, 2, 4, 3], [1, 3, 2, 4], [1, 3, 4, 2], [1, 4, 3, 2], [1, 4, 2, 3], [2, 1, 3, 4], [2, 1, 4, 3], [2, 3, 1, 4], [2, 3, 4, 1], [2, 4, 3, 1], [2, 4, 1, 3], [3, 2, 1, 4], [3, 2, 4, 1], [3, 1, 2, 4], [3, 1, 4, 2], [3, 4, 1, 2], [3, 4, 2, 1], [4, 2, 3, 1], [4, 2, 1, 3], [4, 3, 2, 1], [4, 3, 1, 2], [4, 1, 3, 2], [4, 1, 2, 3]]\n"
     ]
    }
   ],
   "source": [
    "print(all_permutations(standard))"
   ]
  },
  {
   "cell_type": "markdown",
   "id": "ad0c549d",
   "metadata": {},
   "source": [
    "- 라이브러리 사용 O ver"
   ]
  },
  {
   "cell_type": "code",
   "execution_count": 18,
   "id": "577f53b9",
   "metadata": {},
   "outputs": [
    {
     "name": "stdout",
     "output_type": "stream",
     "text": [
      "순열: [(1, 2, 3, 4), (1, 2, 4, 3), (1, 3, 2, 4), (1, 3, 4, 2), (1, 4, 2, 3), (1, 4, 3, 2), (2, 1, 3, 4), (2, 1, 4, 3), (2, 3, 1, 4), (2, 3, 4, 1), (2, 4, 1, 3), (2, 4, 3, 1), (3, 1, 2, 4), (3, 1, 4, 2), (3, 2, 1, 4), (3, 2, 4, 1), (3, 4, 1, 2), (3, 4, 2, 1), (4, 1, 2, 3), (4, 1, 3, 2), (4, 2, 1, 3), (4, 2, 3, 1), (4, 3, 1, 2), (4, 3, 2, 1)]\n"
     ]
    }
   ],
   "source": [
    "from itertools import permutations\n",
    "\n",
    "result = list(permutations(standard))\n",
    "print(\"순열:\", result)"
   ]
  },
  {
   "cell_type": "markdown",
   "id": "d26ee663",
   "metadata": {},
   "source": [
    "# 2. 조합\n",
    "nCr"
   ]
  },
  {
   "cell_type": "markdown",
   "id": "3280bf3b",
   "metadata": {},
   "source": [
    "- 라이브러리 사용 X ver"
   ]
  },
  {
   "cell_type": "code",
   "execution_count": 10,
   "id": "419c9ae1",
   "metadata": {},
   "outputs": [],
   "source": [
    "def generate_combinations(arr, start, end, r, current_combination, result):\n",
    "    if len(current_combination) == r:\n",
    "        result.append(current_combination.copy())\n",
    "        return\n",
    "\n",
    "    for i in range(start, end):\n",
    "        current_combination.append(arr[i])\n",
    "        generate_combinations(arr, i + 1, end, r, current_combination, result)\n",
    "        current_combination.pop()  # 백트래킹\n",
    "\n",
    "def all_combinations(elements, r):\n",
    "    result = []\n",
    "    generate_combinations(elements, 0, len(elements), r, [], result)\n",
    "    return result"
   ]
  },
  {
   "cell_type": "code",
   "execution_count": 14,
   "id": "c0c59704",
   "metadata": {},
   "outputs": [
    {
     "data": {
      "text/plain": [
       "[[1, 2, 3], [1, 2, 4], [1, 3, 4], [2, 3, 4]]"
      ]
     },
     "execution_count": 14,
     "metadata": {},
     "output_type": "execute_result"
    }
   ],
   "source": [
    "all_combinations(standard, 3)"
   ]
  },
  {
   "cell_type": "markdown",
   "id": "9b63323b",
   "metadata": {},
   "source": [
    "- 라이브러리 사용 O ver"
   ]
  },
  {
   "cell_type": "code",
   "execution_count": 19,
   "id": "15b232b3",
   "metadata": {},
   "outputs": [
    {
     "name": "stdout",
     "output_type": "stream",
     "text": [
      "조합: [(1, 2, 3), (1, 2, 4), (1, 3, 4), (2, 3, 4)]\n"
     ]
    }
   ],
   "source": [
    "from itertools import combinations\n",
    "\n",
    "result = list(combinations(standard, 3))\n",
    "print(\"조합:\", result)"
   ]
  }
 ],
 "metadata": {
  "kernelspec": {
   "display_name": "Python 3 (ipykernel)",
   "language": "python",
   "name": "python3"
  },
  "language_info": {
   "codemirror_mode": {
    "name": "ipython",
    "version": 3
   },
   "file_extension": ".py",
   "mimetype": "text/x-python",
   "name": "python",
   "nbconvert_exporter": "python",
   "pygments_lexer": "ipython3",
   "version": "3.9.7"
  }
 },
 "nbformat": 4,
 "nbformat_minor": 5
}
