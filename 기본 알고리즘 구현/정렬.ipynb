{
 "cells": [
  {
   "cell_type": "code",
   "execution_count": 1,
   "id": "8b220d36",
   "metadata": {},
   "outputs": [],
   "source": [
    "standard_list = [4, 2, 7, 3, 8, 1]"
   ]
  },
  {
   "cell_type": "code",
   "execution_count": 7,
   "id": "8e052e18",
   "metadata": {},
   "outputs": [
    {
     "name": "stdout",
     "output_type": "stream",
     "text": [
      "정렬 전 :  [4, 2, 7, 3, 8, 1]\n",
      "-----------------------------------\n",
      "[2, 4, 3, 7, 1, 8]\n",
      "[2, 3, 4, 1, 7, 8]\n",
      "[2, 3, 1, 4, 7, 8]\n",
      "[2, 1, 3, 4, 7, 8]\n",
      "[1, 2, 3, 4, 7, 8]\n",
      "-----------------------------------\n",
      "정렬 후 :  [1, 2, 3, 4, 7, 8]\n"
     ]
    }
   ],
   "source": [
    "bubble = standard_list.copy()\n",
    "print(\"정렬 전 : \", bubble)\n",
    "print(\"-------\" * 5)\n",
    "# 알고리즘\n",
    "for i in range(len(bubble)-1):\n",
    "    for j in range(len(bubble) - i - 1):\n",
    "        if bubble[j] > bubble[j+1]:\n",
    "            bubble[j], bubble[j+1] = bubble[j+1], bubble[j]\n",
    "            \n",
    "    print(bubble)\n",
    "    \n",
    "print(\"-------\" * 5)\n",
    "print(\"정렬 후 : \", bubble)"
   ]
  },
  {
   "cell_type": "code",
   "execution_count": 8,
   "id": "dd9a0c28",
   "metadata": {},
   "outputs": [],
   "source": [
    "def bubble_sort(bubble):\n",
    "    for i in range(len(bubble)-1):\n",
    "        for j in range(len(bubble) - i - 1):\n",
    "            if bubble[j] > bubble[j+1]:\n",
    "                bubble[j], bubble[j+1] = bubble[j+1], bubble[j]\n",
    "                \n",
    "    return bubble"
   ]
  },
  {
   "cell_type": "code",
   "execution_count": 2,
   "id": "1847f353",
   "metadata": {},
   "outputs": [],
   "source": [
    "def merge_sort(arr):\n",
    "    if len(arr) <= 1:\n",
    "        return arr\n",
    "\n",
    "    mid = len(arr) // 2\n",
    "    left_half = merge_sort(arr[:mid])\n",
    "    right_half = merge_sort(arr[mid:])\n",
    "\n",
    "    i = j = 0\n",
    "    sorted_arr = []\n",
    "\n",
    "    while i < len(left_half) and j < len(right_half):\n",
    "        if left_half[i] < right_half[j]:\n",
    "            sorted_arr.append(left_half[i])\n",
    "            i += 1\n",
    "        else:\n",
    "            sorted_arr.append(right_half[j])\n",
    "            j += 1\n",
    "\n",
    "    while i < len(left_half):\n",
    "        sorted_arr.append(left_half[i])\n",
    "        i += 1\n",
    "\n",
    "    while j < len(right_half):\n",
    "        sorted_arr.append(right_half[j])\n",
    "        j += 1\n",
    "\n",
    "    return sorted_arr"
   ]
  },
  {
   "cell_type": "code",
   "execution_count": 3,
   "id": "1c68c636",
   "metadata": {},
   "outputs": [
    {
     "data": {
      "text/plain": [
       "[1, 2, 3, 4, 7, 8]"
      ]
     },
     "execution_count": 3,
     "metadata": {},
     "output_type": "execute_result"
    }
   ],
   "source": [
    "merge_list = standard_list.copy()\n",
    "merge_sort(merge_list)"
   ]
  },
  {
   "cell_type": "code",
   "execution_count": 8,
   "id": "568081a3",
   "metadata": {},
   "outputs": [],
   "source": [
    "merge_list = standard_list.copy()\n",
    "\n",
    "def merge_sort(merge_list):\n",
    "\n",
    "    if len(merge_list) <= 1:\n",
    "        print(merge_list)\n",
    "\n",
    "    mid = len(merge_list) // 2\n",
    "    left_half = merge_sort(merge_list[:mid])\n",
    "    right_half = merge_sort(merge_list[mid:])\n",
    "\n",
    "    i, j = 0, 0\n",
    "    sorted_arr = []\n",
    "    while i < len(left_half) and j < len(right_half):\n",
    "        if left_half[i] < right_half[j]:\n",
    "            sorted_arr.append(left_half[i])\n",
    "            i += 1\n",
    "\n",
    "        else:\n",
    "            sorted_arr.append(right_half[j])\n",
    "            j += 1\n",
    "\n",
    "    while i < len(left_half):\n",
    "        sorted_arr.append(left_half[i])\n",
    "        i += 1\n",
    "\n",
    "    while j < len(right_half):\n",
    "        sorted_arr.append(right_half[j])\n",
    "        j += 1"
   ]
  },
  {
   "cell_type": "code",
   "execution_count": 9,
   "id": "960bcff0",
   "metadata": {},
   "outputs": [
    {
     "data": {
      "text/plain": [
       "[1, 2, 3, 4, 7, 8]"
      ]
     },
     "execution_count": 9,
     "metadata": {},
     "output_type": "execute_result"
    }
   ],
   "source": [
    "sorted_arr"
   ]
  },
  {
   "cell_type": "code",
   "execution_count": null,
   "id": "24e3ddbb",
   "metadata": {},
   "outputs": [],
   "source": []
  }
 ],
 "metadata": {
  "kernelspec": {
   "display_name": "Python 3 (ipykernel)",
   "language": "python",
   "name": "python3"
  },
  "language_info": {
   "codemirror_mode": {
    "name": "ipython",
    "version": 3
   },
   "file_extension": ".py",
   "mimetype": "text/x-python",
   "name": "python",
   "nbconvert_exporter": "python",
   "pygments_lexer": "ipython3",
   "version": "3.9.7"
  }
 },
 "nbformat": 4,
 "nbformat_minor": 5
}
