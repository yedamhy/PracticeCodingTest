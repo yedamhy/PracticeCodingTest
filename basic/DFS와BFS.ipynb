{
 "cells": [
  {
   "cell_type": "markdown",
   "id": "67583788",
   "metadata": {},
   "source": [
    "# DFS"
   ]
  },
  {
   "cell_type": "markdown",
   "id": "c6d86854",
   "metadata": {},
   "source": [
    "**Depth-First Search (깊이 우선 탐색)** <br>\n",
    "그래프에서 깊은 부분을 우선적으로 탐색하는 알고리즘 <br>\n",
    "그래프는 노드, 간선으로 구성되어 있다. <br>\n",
    "→ 최대한 멀리 있는 노드를 우선 탐색하는 방식 <br>\n",
    "→ **스택** 이용\n",
    "\n",
    "<br> <br>\n",
    "동작 방식\n",
    "1. 탐색 시작 노드를 스택에 삽입하고 방문 처리\n",
    "2. 스택의 최상단 노드에 방문하지 않은 인접 노드가 있으면 → 그 인접 노드를 스택에 넣고 방문 처리.<br>\n",
    "방문하지 않은 인접 노드가 없으면 → 스택에서 최상단 노드 꺼내기\n",
    "3. 2번의 과정을 더 이상 수행할 수 없을 때까지 반복"
   ]
  },
  {
   "cell_type": "code",
   "execution_count": 4,
   "id": "7a4ec03b",
   "metadata": {},
   "outputs": [],
   "source": [
    "def dfs(graph, v, visited):\n",
    "    # 현재 노드를 방문 처리\n",
    "    visited[v] = True\n",
    "    print(v, end = ' ')\n",
    "    \n",
    "    # 현재 노드와 연결된 다른 노드 방문 -> 재귀적으로..!\n",
    "    for i in graph[v]:\n",
    "        if not visited[i]:\n",
    "            dfs(graph, i, visited)\n",
    "            "
   ]
  },
  {
   "cell_type": "code",
   "execution_count": 5,
   "id": "ca0236ce",
   "metadata": {},
   "outputs": [
    {
     "name": "stdout",
     "output_type": "stream",
     "text": [
      "1 2 7 6 8 3 4 5 "
     ]
    }
   ],
   "source": [
    "graph = [\n",
    "    [],\n",
    "    [2, 3, 8],\n",
    "    [1, 7],\n",
    "    [1, 4, 5],\n",
    "    [3, 5],\n",
    "    [3, 4],\n",
    "    [7],\n",
    "    [2, 6, 8],\n",
    "    [1, 7]\n",
    "]\n",
    "\n",
    "visited = [False] * 9\n",
    "\n",
    "dfs(graph, 1, visited)"
   ]
  },
  {
   "cell_type": "markdown",
   "id": "019244ca",
   "metadata": {},
   "source": [
    "# BFS"
   ]
  },
  {
   "cell_type": "markdown",
   "id": "3ab4777f",
   "metadata": {},
   "source": [
    "**Breath First Search (너비 우선 탐색)**\n",
    "가까운 노드부터 탐색하는 알고리즘 <br>\n",
    "→  **큐** 이용 <br>\n",
    "보통 코딩테스트에서는 DFS보다 BFS가 더 빠르게 동작\n",
    "<br>\n",
    "<br>\n",
    "동작방식\n",
    "1. 탐색 시작 노드를 큐에 삽입하고 방문 처리\n",
    "2. 큐에서 노드를 꺼내 해당 노드의 인접 노드 중 방문하지 않은 노드를 모두 큐에 삽입하고 방문 처리\n",
    "3. 2번 과정을 더 이상 수행할 수 없을 때까지 반복"
   ]
  },
  {
   "cell_type": "code",
   "execution_count": 11,
   "id": "5cfade6d",
   "metadata": {},
   "outputs": [],
   "source": [
    "from collections import deque\n",
    "\n",
    "def bfs(graph, start, visited):\n",
    "    # que 구현 - 라이브러리 사용\n",
    "    queue = deque([start])\n",
    "    \n",
    "    # 현재 노드 방문 처리\n",
    "    visited[start] = True\n",
    "    \n",
    "    #큐가 빌 때까지 반복\n",
    "    while queue:\n",
    "        v = queue.popleft()\n",
    "        print(v, end = ' ')\n",
    "        # 해당 원소와 연결되고, 아직 방문하지 않은 원소들을 큐에 삽입\n",
    "        for i in graph[v]:\n",
    "            if not visited[i]:\n",
    "                queue.append(i)\n",
    "                visited[i] = True"
   ]
  },
  {
   "cell_type": "code",
   "execution_count": 12,
   "id": "bb18ead4",
   "metadata": {},
   "outputs": [
    {
     "name": "stdout",
     "output_type": "stream",
     "text": [
      "1 2 3 8 7 4 5 6 "
     ]
    }
   ],
   "source": [
    "graph = [\n",
    "    [],\n",
    "    [2, 3, 8],\n",
    "    [1, 7],\n",
    "    [1, 4, 5],\n",
    "    [3, 5],\n",
    "    [3, 4],\n",
    "    [7],\n",
    "    [2, 6, 8],\n",
    "    [1, 7]\n",
    "]\n",
    "\n",
    "visited = [False] * 9\n",
    "\n",
    "bfs(graph, 1, visited)"
   ]
  }
 ],
 "metadata": {
  "kernelspec": {
   "display_name": "Python 3 (ipykernel)",
   "language": "python",
   "name": "python3"
  },
  "language_info": {
   "codemirror_mode": {
    "name": "ipython",
    "version": 3
   },
   "file_extension": ".py",
   "mimetype": "text/x-python",
   "name": "python",
   "nbconvert_exporter": "python",
   "pygments_lexer": "ipython3",
   "version": "3.9.7"
  }
 },
 "nbformat": 4,
 "nbformat_minor": 5
}
